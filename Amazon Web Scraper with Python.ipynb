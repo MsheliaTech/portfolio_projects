{
 "cells": [
  {
   "cell_type": "markdown",
   "id": "945b4d0b-d378-4843-a5cc-56d0257b5ba0",
   "metadata": {},
   "source": [
    "Amazon Web Scraper"
   ]
  },
  {
   "cell_type": "code",
   "execution_count": 3,
   "id": "4f620a12-1b41-4ad1-99d2-6b1a74d0ac23",
   "metadata": {},
   "outputs": [],
   "source": [
    "#Import libraries\n",
    "\n",
    "from bs4 import BeautifulSoup \n",
    "import requests\n",
    "\n",
    "import time \n",
    "import datetime\n",
    "\n",
    "import csv \n",
    "import pandas as pd\n",
    "\n",
    "import smtplib"
   ]
  },
  {
   "cell_type": "code",
   "execution_count": 5,
   "id": "9bf17ec3-5440-48a7-a38b-f1148b1f835e",
   "metadata": {},
   "outputs": [],
   "source": [
    "# Connect to website and pull in data\n",
    "\n",
    "url = \"https://www.amazon.com/gp/product/B07FNW9FGJ/ref=ewc_pr_img_1?smid=ATVPDKIKX0DER&psc=1&customizationToken=MC_Assembly_1%23B0754BKNSV&customId=B0754BKNSV\"\n",
    "\n",
    "headers = {\"User-Agent\": \"Mozilla/5.0 (Windows NT 10.0; Win64; x64) AppleWebKit/537.36 (KHTML, like Gecko) Chrome/128.0.0.0 Safari/537.36\", \"Accept-Language\": \"en-US,en;q=0.9\"}\n",
    "\n",
    "page = requests.get(url, headers = headers)\n",
    "\n",
    "soup1 = BeautifulSoup(page.content, \"html.parser\")\n",
    "\n",
    "soup2 = BeautifulSoup(soup1.prettify(), \"html.parser\")\n",
    "\n",
    "#print(soup2)"
   ]
  },
  {
   "cell_type": "code",
   "execution_count": 44,
   "id": "6a393ee5-26f4-4bd4-985a-67b315918c4d",
   "metadata": {},
   "outputs": [
    {
     "name": "stdout",
     "output_type": "stream",
     "text": [
      "Funny Got Data MIS Data Systems Business Analyst T-Shirt\n"
     ]
    }
   ],
   "source": [
    "# Title\n",
    "\n",
    "title = soup2.find(id = \"productTitle\").get_text(strip = True)\n",
    "\n",
    "print(title)"
   ]
  },
  {
   "cell_type": "code",
   "execution_count": 40,
   "id": "a8e13070-2622-42ac-b5fa-aa4833179d3c",
   "metadata": {},
   "outputs": [
    {
     "name": "stdout",
     "output_type": "stream",
     "text": [
      "$16.99\n"
     ]
    }
   ],
   "source": [
    "# Price \n",
    "\n",
    "price_symbol = soup2.find(class_ = \"a-price-symbol\").get_text(strip = True)\n",
    "price_whole = soup2.find(class_ = \"a-price-whole\").get_text(strip = True)\n",
    "price_fraction = soup2.find(class_ = \"a-price-fraction\").get_text(strip = True)\n",
    "price = f\"{price_symbol}{price_whole}{price_fraction}\"\n",
    "\n",
    "print(price)"
   ]
  },
  {
   "cell_type": "code",
   "execution_count": 46,
   "id": "3b8f76c0-5661-4bbf-8619-9881d0556509",
   "metadata": {},
   "outputs": [
    {
     "name": "stdout",
     "output_type": "stream",
     "text": [
      "Funny Got Data MIS Data Systems Business Analyst T-Shirt\n",
      "16.99\n"
     ]
    }
   ],
   "source": [
    "price = price.strip()[1:]\n",
    "\n",
    "print(title)\n",
    "print(price)"
   ]
  },
  {
   "cell_type": "code",
   "execution_count": 52,
   "id": "264b7232-0a4f-414f-9d03-37a1a2f417e9",
   "metadata": {},
   "outputs": [
    {
     "name": "stdout",
     "output_type": "stream",
     "text": [
      "2024-09-19\n"
     ]
    }
   ],
   "source": [
    "#Create a time stamp\n",
    "\n",
    "today = datetime.date.today()\n",
    "\n",
    "print(today)"
   ]
  },
  {
   "cell_type": "code",
   "execution_count": 56,
   "id": "df51658b-4483-46c9-84f2-8bd454ff939c",
   "metadata": {},
   "outputs": [],
   "source": [
    "#Create a csv file\n",
    "\n",
    "header = [\"Title\", \"Price\", \"Date\"]\n",
    "\n",
    "data = [title, price, today]\n",
    "\n",
    "with open(\"AmazonWebSrcaperDataset1.csv\", \"w\", newline = \"\", encoding = \"UTF8\") as f:\n",
    "    writer = csv.writer(f)\n",
    "    writer.writerow(header)\n",
    "    writer.writerow(data)"
   ]
  },
  {
   "cell_type": "code",
   "execution_count": 68,
   "id": "e9239fde-9134-4461-8782-3bb18eadd916",
   "metadata": {},
   "outputs": [
    {
     "name": "stdout",
     "output_type": "stream",
     "text": [
      "                                               Title  Price        Date\n",
      "0  Funny Got Data MIS Data Systems Business Analy...  16.99  2024-09-19\n",
      "1  Funny Got Data MIS Data Systems Business Analy...  16.99  2024-09-19\n",
      "2  Funny Got Data MIS Data Systems Business Analy...  16.99  2024-09-19\n"
     ]
    }
   ],
   "source": [
    "#Read in csv file\n",
    "\n",
    "df = pd.read_csv(r\"C:\\Users\\USER\\AmazonWebSrcaperDataset1.csv\")\n",
    "\n",
    "print(df)"
   ]
  },
  {
   "cell_type": "code",
   "execution_count": 66,
   "id": "ea3df880-384a-4498-9d44-67a97f37e6c1",
   "metadata": {},
   "outputs": [],
   "source": [
    "#Appending data to the csv file\n",
    "\n",
    "with open(\"AmazonWebSrcaperDataset1.csv\", \"a+\", newline = \"\", encoding = \"UTF8\") as f:\n",
    "    writer = csv.writer(f)\n",
    "    writer.writerow(data)"
   ]
  },
  {
   "cell_type": "code",
   "execution_count": null,
   "id": "2f22c548-e0e9-4737-b3c0-5fd48e2dade8",
   "metadata": {},
   "outputs": [],
   "source": [
    "# Combine codes above into a function \n",
    "\n",
    "def check_price():\n",
    "    url = \"https://www.amazon.com/gp/product/B07FNW9FGJ/ref=ewc_pr_img_1?smid=ATVPDKIKX0DER&psc=1&customizationToken=MC_Assembly_1%23B0754BKNSV&customId=B0754BKNSV\"\n",
    "\n",
    "    headers = {\"User-Agent\": \"Mozilla/5.0 (Windows NT 10.0; Win64; x64) AppleWebKit/537.36 (KHTML, like Gecko) Chrome/128.0.0.0 Safari/537.36\", \"Accept-Language\": \"en-US,en;q=0.9\"}\n",
    "\n",
    "    page = requests.get(url, headers = headers)\n",
    "\n",
    "    soup1 = BeautifulSoup(page.content, \"html.parser\")\n",
    "\n",
    "    soup2 = BeautifulSoup(soup1.prettify(), \"html.parser\")\n",
    "\n",
    "    title = soup2.find(id = \"productTitle\").get_text(strip = True)\n",
    "\n",
    "    price_symbol = soup2.find(class_ = \"a-price-symbol\").get_text(strip = True)\n",
    "    price_whole = soup2.find(class_ = \"a-price-whole\").get_text(strip = True)\n",
    "    price_fraction = soup2.find(class_ = \"a-price-fraction\").get_text(strip = True)\n",
    "    price = f\"{price_symbol}{price_whole}{price_fraction}\"\n",
    "\n",
    "    price = price.strip()[1:]\n",
    "\n",
    "    today = datetime.date.today()\n",
    "    \n",
    "    header = [\"Title\", \"Price\", \"Date\"]\n",
    "    data = [title, price, today]\n",
    "\n",
    "    with open(\"AmazonWebSrcaperDataset1.csv\", \"a+\", newline = \"\", encoding = \"UTF8\") as f:\n",
    "        writer = csv.writer(f)\n",
    "        writer.writerow(data)"
   ]
  },
  {
   "cell_type": "code",
   "execution_count": null,
   "id": "545d2593-8ff2-408f-887d-053567cb3033",
   "metadata": {},
   "outputs": [],
   "source": [
    "#Create a timer\n",
    "\n",
    "while(True):\n",
    "    check_price()\n",
    "    time.sleep(86400)"
   ]
  },
  {
   "cell_type": "code",
   "execution_count": null,
   "id": "efefd5c8-dc4e-41a1-a2ca-cf976756b514",
   "metadata": {},
   "outputs": [],
   "source": [
    "df = pd.read_csv(r\"C:\\Users\\USER\\AmazonWebSrcaperDataset1.csv\")\n",
    "\n",
    "print(df)"
   ]
  }
 ],
 "metadata": {
  "kernelspec": {
   "display_name": "Python 3 (ipykernel)",
   "language": "python",
   "name": "python3"
  },
  "language_info": {
   "codemirror_mode": {
    "name": "ipython",
    "version": 3
   },
   "file_extension": ".py",
   "mimetype": "text/x-python",
   "name": "python",
   "nbconvert_exporter": "python",
   "pygments_lexer": "ipython3",
   "version": "3.12.4"
  }
 },
 "nbformat": 4,
 "nbformat_minor": 5
}
